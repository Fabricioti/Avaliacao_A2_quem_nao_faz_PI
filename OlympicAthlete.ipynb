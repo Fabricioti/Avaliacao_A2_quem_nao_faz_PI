{
  "nbformat": 4,
  "nbformat_minor": 0,
  "metadata": {
    "colab": {
      "name": "OlympicAthlete.ipynb",
      "provenance": [],
      "collapsed_sections": [],
      "toc_visible": true,
      "authorship_tag": "ABX9TyO34DJxOVCB7N6ho6+CWXI5",
      "include_colab_link": true
    },
    "kernelspec": {
      "name": "python3",
      "display_name": "Python 3"
    }
  },
  "cells": [
    {
      "cell_type": "markdown",
      "metadata": {
        "id": "view-in-github",
        "colab_type": "text"
      },
      "source": [
        "<a href=\"https://colab.research.google.com/github/Fabricioti/Avaliacao_A2_quem_nao_faz_PI/blob/master/OlympicAthlete.ipynb\" target=\"_parent\"><img src=\"https://colab.research.google.com/assets/colab-badge.svg\" alt=\"Open In Colab\"/></a>"
      ]
    },
    {
      "cell_type": "markdown",
      "metadata": {
        "id": "EOGkKHLLRgKp",
        "colab_type": "text"
      },
      "source": [
        "# • Avaliação A2 - Para quem não faz PI\n",
        "\n",
        "\n"
      ]
    },
    {
      "cell_type": "markdown",
      "metadata": {
        "id": "J2pXMTIvRqVy",
        "colab_type": "text"
      },
      "source": [
        "# • Contexto\n",
        "\n",
        "Este é um conjunto de dados históricos dos Jogos Olímpicos modernos, incluindo todos os Jogos de Atenas 1896 ao Rio 2016.\n",
        "Foi utilizado o conjunto de dados do site: https://www.kaggle.com/heesoo37/120-years-of-olympic-history-athletes-and-results. \n",
        "\n",
        "Nome do arquivo utilizado: (athlet_events.csv)\n"
      ]
    },
    {
      "cell_type": "markdown",
      "metadata": {
        "id": "LzRvkSM1Rw3Y",
        "colab_type": "text"
      },
      "source": [
        "# • Conteúdo\n",
        "\n",
        "O arquivo (athlet_events.csv) contém 271116 linhas e 15 colunas. Cada linha corresponde a um atleta individual competindo em um evento olímpico individual (eventos de atletas). As colunas são:\n",
        "\n",
        "•\tID - número único para cada atleta\n",
        "\n",
        "•\tNome - nome do atleta\n",
        "\n",
        "•\tSexo - M ou F\n",
        "\n",
        "•\tIdade - Inteiro\n",
        "\n",
        "•\tAltura - em centímetros\n",
        "\n",
        "•\tPeso - em quilogramas\n",
        "\n",
        "•\tEquipe - Nome da equipe\n",
        "\n",
        "•\tNOC - Código Olímpico do Comitê Olímpico Nacional\n",
        "\n",
        "•\tJogos - Ano e época\n",
        "\n",
        "•\tAno - Inteiro\n",
        "\n",
        "•\tTemporada - verão ou inverno\n",
        "\n",
        "•\tCidade - Cidade anfitriã\n",
        "\n",
        "•\tEsporte - Esporte\n",
        "\n",
        "•\tEvento - Evento\n",
        "\n",
        "•\tMedalha - Ouro, Prata, Bronze ou NA\n"
      ]
    },
    {
      "cell_type": "markdown",
      "metadata": {
        "id": "5GXKEYUQSFp4",
        "colab_type": "text"
      },
      "source": [
        "# O objetivo\n",
        "\n",
        "realizar uma análise exploratória dos dados olímpicos utilizando o conjunto de dados: (atleta_eventos.csv) site: https://www.kaggle.com/heesoo37/120-years-of-olympic-history-athletes-and-results e também em www.sports-reference.com são o resultado de uma quantidade incrível de pesquisas de um grupo de entusiastas da história olímpica e auto-proclamados 'estatistérios'.\n",
        "Especificamente serão respondidas as seguintes questões de pesquisa:\n",
        "\n",
        "\n",
        "1. Configuração do Ambiente.\n",
        "2. Leitura dos Dados.\n",
        "  \n",
        "  2.1 Dados ausentes.\n",
        "3. Qual o número de participantes por sexo?\n",
        "4. Ano e a quantidade de atletas por cidades que sediaram as Olimpíadas?\n",
        "5. Quantidade de atletas participantes por País?\n",
        "6. Qual é o nome e o número de medalhas dos participantes?\n",
        "7. Qual é a média de idades dos atletas?\n",
        "8. Quantidade de atletas por idade?\n"
      ]
    },
    {
      "cell_type": "markdown",
      "metadata": {
        "id": "e1mrYcKmTXNB",
        "colab_type": "text"
      },
      "source": [
        "##1. Configuração do Ambiente\n",
        "\n",
        "1.1 Importe o pacote numpy com o nome np.\n",
        "\n",
        "1.2 Importe o pacote pandas com o nome pd."
      ]
    },
    {
      "cell_type": "code",
      "metadata": {
        "id": "qi8CsqlbT0S9",
        "colab_type": "code",
        "colab": {}
      },
      "source": [
        "import numpy as np\n",
        "import pandas as pd"
      ],
      "execution_count": null,
      "outputs": []
    },
    {
      "cell_type": "markdown",
      "metadata": {
        "id": "f_-U_mKuTvbT",
        "colab_type": "text"
      },
      "source": [
        "##2. Leitura dos Dados"
      ]
    },
    {
      "cell_type": "code",
      "metadata": {
        "id": "KV9tCSODT1d8",
        "colab_type": "code",
        "colab": {
          "base_uri": "https://localhost:8080/",
          "height": 204
        },
        "outputId": "65cc71c4-4581-4b0d-c945-7158ce197da4"
      },
      "source": [
        "df = pd.read_csv('athlete_events.csv')\n",
        "\n",
        "df.head()"
      ],
      "execution_count": null,
      "outputs": [
        {
          "output_type": "execute_result",
          "data": {
            "text/html": [
              "<div>\n",
              "<style scoped>\n",
              "    .dataframe tbody tr th:only-of-type {\n",
              "        vertical-align: middle;\n",
              "    }\n",
              "\n",
              "    .dataframe tbody tr th {\n",
              "        vertical-align: top;\n",
              "    }\n",
              "\n",
              "    .dataframe thead th {\n",
              "        text-align: right;\n",
              "    }\n",
              "</style>\n",
              "<table border=\"1\" class=\"dataframe\">\n",
              "  <thead>\n",
              "    <tr style=\"text-align: right;\">\n",
              "      <th></th>\n",
              "      <th>ID</th>\n",
              "      <th>Name</th>\n",
              "      <th>Sex</th>\n",
              "      <th>Age</th>\n",
              "      <th>Height</th>\n",
              "      <th>Weight</th>\n",
              "      <th>Team</th>\n",
              "      <th>NOC</th>\n",
              "      <th>Games</th>\n",
              "      <th>Year</th>\n",
              "      <th>Season</th>\n",
              "      <th>City</th>\n",
              "      <th>Sport</th>\n",
              "      <th>Event</th>\n",
              "      <th>Medal</th>\n",
              "    </tr>\n",
              "  </thead>\n",
              "  <tbody>\n",
              "    <tr>\n",
              "      <th>0</th>\n",
              "      <td>1</td>\n",
              "      <td>A Dijiang</td>\n",
              "      <td>M</td>\n",
              "      <td>24.0</td>\n",
              "      <td>180.0</td>\n",
              "      <td>80.0</td>\n",
              "      <td>China</td>\n",
              "      <td>CHN</td>\n",
              "      <td>1992 Summer</td>\n",
              "      <td>1992</td>\n",
              "      <td>Summer</td>\n",
              "      <td>Barcelona</td>\n",
              "      <td>Basketball</td>\n",
              "      <td>Basketball Men's Basketball</td>\n",
              "      <td>NaN</td>\n",
              "    </tr>\n",
              "    <tr>\n",
              "      <th>1</th>\n",
              "      <td>2</td>\n",
              "      <td>A Lamusi</td>\n",
              "      <td>M</td>\n",
              "      <td>23.0</td>\n",
              "      <td>170.0</td>\n",
              "      <td>60.0</td>\n",
              "      <td>China</td>\n",
              "      <td>CHN</td>\n",
              "      <td>2012 Summer</td>\n",
              "      <td>2012</td>\n",
              "      <td>Summer</td>\n",
              "      <td>London</td>\n",
              "      <td>Judo</td>\n",
              "      <td>Judo Men's Extra-Lightweight</td>\n",
              "      <td>NaN</td>\n",
              "    </tr>\n",
              "    <tr>\n",
              "      <th>2</th>\n",
              "      <td>3</td>\n",
              "      <td>Gunnar Nielsen Aaby</td>\n",
              "      <td>M</td>\n",
              "      <td>24.0</td>\n",
              "      <td>NaN</td>\n",
              "      <td>NaN</td>\n",
              "      <td>Denmark</td>\n",
              "      <td>DEN</td>\n",
              "      <td>1920 Summer</td>\n",
              "      <td>1920</td>\n",
              "      <td>Summer</td>\n",
              "      <td>Antwerpen</td>\n",
              "      <td>Football</td>\n",
              "      <td>Football Men's Football</td>\n",
              "      <td>NaN</td>\n",
              "    </tr>\n",
              "    <tr>\n",
              "      <th>3</th>\n",
              "      <td>4</td>\n",
              "      <td>Edgar Lindenau Aabye</td>\n",
              "      <td>M</td>\n",
              "      <td>34.0</td>\n",
              "      <td>NaN</td>\n",
              "      <td>NaN</td>\n",
              "      <td>Denmark/Sweden</td>\n",
              "      <td>DEN</td>\n",
              "      <td>1900 Summer</td>\n",
              "      <td>1900</td>\n",
              "      <td>Summer</td>\n",
              "      <td>Paris</td>\n",
              "      <td>Tug-Of-War</td>\n",
              "      <td>Tug-Of-War Men's Tug-Of-War</td>\n",
              "      <td>Gold</td>\n",
              "    </tr>\n",
              "    <tr>\n",
              "      <th>4</th>\n",
              "      <td>5</td>\n",
              "      <td>Christine Jacoba Aaftink</td>\n",
              "      <td>F</td>\n",
              "      <td>21.0</td>\n",
              "      <td>185.0</td>\n",
              "      <td>82.0</td>\n",
              "      <td>Netherlands</td>\n",
              "      <td>NED</td>\n",
              "      <td>1988 Winter</td>\n",
              "      <td>1988</td>\n",
              "      <td>Winter</td>\n",
              "      <td>Calgary</td>\n",
              "      <td>Speed Skating</td>\n",
              "      <td>Speed Skating Women's 500 metres</td>\n",
              "      <td>NaN</td>\n",
              "    </tr>\n",
              "  </tbody>\n",
              "</table>\n",
              "</div>"
            ],
            "text/plain": [
              "   ID                      Name  ...                             Event  Medal\n",
              "0   1                 A Dijiang  ...       Basketball Men's Basketball    NaN\n",
              "1   2                  A Lamusi  ...      Judo Men's Extra-Lightweight    NaN\n",
              "2   3       Gunnar Nielsen Aaby  ...           Football Men's Football    NaN\n",
              "3   4      Edgar Lindenau Aabye  ...       Tug-Of-War Men's Tug-Of-War   Gold\n",
              "4   5  Christine Jacoba Aaftink  ...  Speed Skating Women's 500 metres    NaN\n",
              "\n",
              "[5 rows x 15 columns]"
            ]
          },
          "metadata": {
            "tags": []
          },
          "execution_count": 3
        }
      ]
    },
    {
      "cell_type": "code",
      "metadata": {
        "id": "baIPTuO4Y34S",
        "colab_type": "code",
        "colab": {
          "base_uri": "https://localhost:8080/",
          "height": 391
        },
        "outputId": "466039bd-0fe5-40b6-d153-dbf91111aa16"
      },
      "source": [
        "df.info()"
      ],
      "execution_count": null,
      "outputs": [
        {
          "output_type": "stream",
          "text": [
            "<class 'pandas.core.frame.DataFrame'>\n",
            "RangeIndex: 271116 entries, 0 to 271115\n",
            "Data columns (total 15 columns):\n",
            " #   Column  Non-Null Count   Dtype  \n",
            "---  ------  --------------   -----  \n",
            " 0   ID      271116 non-null  int64  \n",
            " 1   Name    271116 non-null  object \n",
            " 2   Sex     271116 non-null  object \n",
            " 3   Age     261642 non-null  float64\n",
            " 4   Height  210945 non-null  float64\n",
            " 5   Weight  208241 non-null  float64\n",
            " 6   Team    271116 non-null  object \n",
            " 7   NOC     271116 non-null  object \n",
            " 8   Games   271116 non-null  object \n",
            " 9   Year    271116 non-null  int64  \n",
            " 10  Season  271116 non-null  object \n",
            " 11  City    271116 non-null  object \n",
            " 12  Sport   271116 non-null  object \n",
            " 13  Event   271116 non-null  object \n",
            " 14  Medal   39783 non-null   object \n",
            "dtypes: float64(3), int64(2), object(10)\n",
            "memory usage: 31.0+ MB\n"
          ],
          "name": "stdout"
        }
      ]
    },
    {
      "cell_type": "code",
      "metadata": {
        "id": "mqBr-pi5pcm6",
        "colab_type": "code",
        "colab": {
          "base_uri": "https://localhost:8080/",
          "height": 297
        },
        "outputId": "f1c47311-1598-41ce-d267-bf1614c1f32a"
      },
      "source": [
        "df.describe()"
      ],
      "execution_count": null,
      "outputs": [
        {
          "output_type": "execute_result",
          "data": {
            "text/html": [
              "<div>\n",
              "<style scoped>\n",
              "    .dataframe tbody tr th:only-of-type {\n",
              "        vertical-align: middle;\n",
              "    }\n",
              "\n",
              "    .dataframe tbody tr th {\n",
              "        vertical-align: top;\n",
              "    }\n",
              "\n",
              "    .dataframe thead th {\n",
              "        text-align: right;\n",
              "    }\n",
              "</style>\n",
              "<table border=\"1\" class=\"dataframe\">\n",
              "  <thead>\n",
              "    <tr style=\"text-align: right;\">\n",
              "      <th></th>\n",
              "      <th>ID</th>\n",
              "      <th>Age</th>\n",
              "      <th>Height</th>\n",
              "      <th>Weight</th>\n",
              "      <th>Year</th>\n",
              "    </tr>\n",
              "  </thead>\n",
              "  <tbody>\n",
              "    <tr>\n",
              "      <th>count</th>\n",
              "      <td>271116.000000</td>\n",
              "      <td>261642.000000</td>\n",
              "      <td>210945.000000</td>\n",
              "      <td>208241.000000</td>\n",
              "      <td>271116.000000</td>\n",
              "    </tr>\n",
              "    <tr>\n",
              "      <th>mean</th>\n",
              "      <td>68248.954396</td>\n",
              "      <td>25.556898</td>\n",
              "      <td>175.338970</td>\n",
              "      <td>70.702393</td>\n",
              "      <td>1978.378480</td>\n",
              "    </tr>\n",
              "    <tr>\n",
              "      <th>std</th>\n",
              "      <td>39022.286345</td>\n",
              "      <td>6.393561</td>\n",
              "      <td>10.518462</td>\n",
              "      <td>14.348020</td>\n",
              "      <td>29.877632</td>\n",
              "    </tr>\n",
              "    <tr>\n",
              "      <th>min</th>\n",
              "      <td>1.000000</td>\n",
              "      <td>10.000000</td>\n",
              "      <td>127.000000</td>\n",
              "      <td>25.000000</td>\n",
              "      <td>1896.000000</td>\n",
              "    </tr>\n",
              "    <tr>\n",
              "      <th>25%</th>\n",
              "      <td>34643.000000</td>\n",
              "      <td>21.000000</td>\n",
              "      <td>168.000000</td>\n",
              "      <td>60.000000</td>\n",
              "      <td>1960.000000</td>\n",
              "    </tr>\n",
              "    <tr>\n",
              "      <th>50%</th>\n",
              "      <td>68205.000000</td>\n",
              "      <td>24.000000</td>\n",
              "      <td>175.000000</td>\n",
              "      <td>70.000000</td>\n",
              "      <td>1988.000000</td>\n",
              "    </tr>\n",
              "    <tr>\n",
              "      <th>75%</th>\n",
              "      <td>102097.250000</td>\n",
              "      <td>28.000000</td>\n",
              "      <td>183.000000</td>\n",
              "      <td>79.000000</td>\n",
              "      <td>2002.000000</td>\n",
              "    </tr>\n",
              "    <tr>\n",
              "      <th>max</th>\n",
              "      <td>135571.000000</td>\n",
              "      <td>97.000000</td>\n",
              "      <td>226.000000</td>\n",
              "      <td>214.000000</td>\n",
              "      <td>2016.000000</td>\n",
              "    </tr>\n",
              "  </tbody>\n",
              "</table>\n",
              "</div>"
            ],
            "text/plain": [
              "                  ID            Age  ...         Weight           Year\n",
              "count  271116.000000  261642.000000  ...  208241.000000  271116.000000\n",
              "mean    68248.954396      25.556898  ...      70.702393    1978.378480\n",
              "std     39022.286345       6.393561  ...      14.348020      29.877632\n",
              "min         1.000000      10.000000  ...      25.000000    1896.000000\n",
              "25%     34643.000000      21.000000  ...      60.000000    1960.000000\n",
              "50%     68205.000000      24.000000  ...      70.000000    1988.000000\n",
              "75%    102097.250000      28.000000  ...      79.000000    2002.000000\n",
              "max    135571.000000      97.000000  ...     214.000000    2016.000000\n",
              "\n",
              "[8 rows x 5 columns]"
            ]
          },
          "metadata": {
            "tags": []
          },
          "execution_count": 5
        }
      ]
    },
    {
      "cell_type": "markdown",
      "metadata": {
        "id": "jMvQt9NYZLp_",
        "colab_type": "text"
      },
      "source": [
        "###2.1. Dados ausentes"
      ]
    },
    {
      "cell_type": "code",
      "metadata": {
        "id": "cdhDxNvdZQP3",
        "colab_type": "code",
        "colab": {
          "base_uri": "https://localhost:8080/",
          "height": 323
        },
        "outputId": "b49e3a4d-69da-48a6-8df4-3991e45c2a0d"
      },
      "source": [
        "print('Possui Dados ausentes?', df.isnull().values.any())\n",
        "\n",
        "print('total de dados ausentes: ', df.isnull().sum().sum())\n",
        "print('total de dados ausentes por coluna: ', df.isnull().sum())"
      ],
      "execution_count": null,
      "outputs": [
        {
          "output_type": "stream",
          "text": [
            "Possui Dados ausentes? True\n",
            "total de dados ausentes:  363853\n",
            "total de dados ausentes por coluna:  ID             0\n",
            "Name           0\n",
            "Sex            0\n",
            "Age         9474\n",
            "Height     60171\n",
            "Weight     62875\n",
            "Team           0\n",
            "NOC            0\n",
            "Games          0\n",
            "Year           0\n",
            "Season         0\n",
            "City           0\n",
            "Sport          0\n",
            "Event          0\n",
            "Medal     231333\n",
            "dtype: int64\n"
          ],
          "name": "stdout"
        }
      ]
    },
    {
      "cell_type": "markdown",
      "metadata": {
        "id": "1IarhgJvT13c",
        "colab_type": "text"
      },
      "source": [
        "###3. Qual o número de participantes por sexo?"
      ]
    },
    {
      "cell_type": "code",
      "metadata": {
        "id": "v1oJCgdVUB3F",
        "colab_type": "code",
        "colab": {
          "base_uri": "https://localhost:8080/",
          "height": 142
        },
        "outputId": "4b15cc2c-3c11-456e-db78-f189e76a3eab"
      },
      "source": [
        "df['Sex'].value_counts()\n",
        "\n",
        "df.groupby('Sex').Age.describe()"
      ],
      "execution_count": null,
      "outputs": [
        {
          "output_type": "execute_result",
          "data": {
            "text/html": [
              "<div>\n",
              "<style scoped>\n",
              "    .dataframe tbody tr th:only-of-type {\n",
              "        vertical-align: middle;\n",
              "    }\n",
              "\n",
              "    .dataframe tbody tr th {\n",
              "        vertical-align: top;\n",
              "    }\n",
              "\n",
              "    .dataframe thead th {\n",
              "        text-align: right;\n",
              "    }\n",
              "</style>\n",
              "<table border=\"1\" class=\"dataframe\">\n",
              "  <thead>\n",
              "    <tr style=\"text-align: right;\">\n",
              "      <th></th>\n",
              "      <th>count</th>\n",
              "      <th>mean</th>\n",
              "      <th>std</th>\n",
              "      <th>min</th>\n",
              "      <th>25%</th>\n",
              "      <th>50%</th>\n",
              "      <th>75%</th>\n",
              "      <th>max</th>\n",
              "    </tr>\n",
              "    <tr>\n",
              "      <th>Sex</th>\n",
              "      <th></th>\n",
              "      <th></th>\n",
              "      <th></th>\n",
              "      <th></th>\n",
              "      <th></th>\n",
              "      <th></th>\n",
              "      <th></th>\n",
              "      <th></th>\n",
              "    </tr>\n",
              "  </thead>\n",
              "  <tbody>\n",
              "    <tr>\n",
              "      <th>F</th>\n",
              "      <td>74098.0</td>\n",
              "      <td>23.732881</td>\n",
              "      <td>5.795252</td>\n",
              "      <td>11.0</td>\n",
              "      <td>20.0</td>\n",
              "      <td>23.0</td>\n",
              "      <td>27.0</td>\n",
              "      <td>74.0</td>\n",
              "    </tr>\n",
              "    <tr>\n",
              "      <th>M</th>\n",
              "      <td>187544.0</td>\n",
              "      <td>26.277562</td>\n",
              "      <td>6.474972</td>\n",
              "      <td>10.0</td>\n",
              "      <td>22.0</td>\n",
              "      <td>25.0</td>\n",
              "      <td>29.0</td>\n",
              "      <td>97.0</td>\n",
              "    </tr>\n",
              "  </tbody>\n",
              "</table>\n",
              "</div>"
            ],
            "text/plain": [
              "        count       mean       std   min   25%   50%   75%   max\n",
              "Sex                                                             \n",
              "F     74098.0  23.732881  5.795252  11.0  20.0  23.0  27.0  74.0\n",
              "M    187544.0  26.277562  6.474972  10.0  22.0  25.0  29.0  97.0"
            ]
          },
          "metadata": {
            "tags": []
          },
          "execution_count": 15
        }
      ]
    },
    {
      "cell_type": "markdown",
      "metadata": {
        "id": "IeUqeWESUCo0",
        "colab_type": "text"
      },
      "source": [
        "###4. Ano e a quantidade de atletas por cidades que sediaram as Olimpíadas."
      ]
    },
    {
      "cell_type": "code",
      "metadata": {
        "id": "jORkFR1JUJm6",
        "colab_type": "code",
        "colab": {
          "base_uri": "https://localhost:8080/",
          "height": 799
        },
        "outputId": "41bc0446-ee5d-4eac-a2d9-5bda45ef0e1e"
      },
      "source": [
        "cidades = pd.crosstab(df['City'], df['Year'])\n",
        "\n",
        "print(cidades)"
      ],
      "execution_count": null,
      "outputs": [
        {
          "output_type": "stream",
          "text": [
            "Year                    1896  1900  1904  1906  ...  2010   2012  2014   2016\n",
            "City                                            ...                          \n",
            "Albertville                0     0     0     0  ...     0      0     0      0\n",
            "Amsterdam                  0     0     0     0  ...     0      0     0      0\n",
            "Antwerpen                  0     0     0     0  ...     0      0     0      0\n",
            "Athina                   380     0     0  1733  ...     0      0     0      0\n",
            "Atlanta                    0     0     0     0  ...     0      0     0      0\n",
            "Barcelona                  0     0     0     0  ...     0      0     0      0\n",
            "Beijing                    0     0     0     0  ...     0      0     0      0\n",
            "Berlin                     0     0     0     0  ...     0      0     0      0\n",
            "Calgary                    0     0     0     0  ...     0      0     0      0\n",
            "Chamonix                   0     0     0     0  ...     0      0     0      0\n",
            "Cortina d'Ampezzo          0     0     0     0  ...     0      0     0      0\n",
            "Garmisch-Partenkirchen     0     0     0     0  ...     0      0     0      0\n",
            "Grenoble                   0     0     0     0  ...     0      0     0      0\n",
            "Helsinki                   0     0     0     0  ...     0      0     0      0\n",
            "Innsbruck                  0     0     0     0  ...     0      0     0      0\n",
            "Lake Placid                0     0     0     0  ...     0      0     0      0\n",
            "Lillehammer                0     0     0     0  ...     0      0     0      0\n",
            "London                     0     0     0     0  ...     0  12920     0      0\n",
            "Los Angeles                0     0     0     0  ...     0      0     0      0\n",
            "Melbourne                  0     0     0     0  ...     0      0     0      0\n",
            "Mexico City                0     0     0     0  ...     0      0     0      0\n",
            "Montreal                   0     0     0     0  ...     0      0     0      0\n",
            "Moskva                     0     0     0     0  ...     0      0     0      0\n",
            "Munich                     0     0     0     0  ...     0      0     0      0\n",
            "Nagano                     0     0     0     0  ...     0      0     0      0\n",
            "Oslo                       0     0     0     0  ...     0      0     0      0\n",
            "Paris                      0  1936     0     0  ...     0      0     0      0\n",
            "Rio de Janeiro             0     0     0     0  ...     0      0     0  13688\n",
            "Roma                       0     0     0     0  ...     0      0     0      0\n",
            "Salt Lake City             0     0     0     0  ...     0      0     0      0\n",
            "Sankt Moritz               0     0     0     0  ...     0      0     0      0\n",
            "Sapporo                    0     0     0     0  ...     0      0     0      0\n",
            "Sarajevo                   0     0     0     0  ...     0      0     0      0\n",
            "Seoul                      0     0     0     0  ...     0      0     0      0\n",
            "Sochi                      0     0     0     0  ...     0      0  4891      0\n",
            "Squaw Valley               0     0     0     0  ...     0      0     0      0\n",
            "St. Louis                  0     0  1301     0  ...     0      0     0      0\n",
            "Stockholm                  0     0     0     0  ...     0      0     0      0\n",
            "Sydney                     0     0     0     0  ...     0      0     0      0\n",
            "Tokyo                      0     0     0     0  ...     0      0     0      0\n",
            "Torino                     0     0     0     0  ...     0      0     0      0\n",
            "Vancouver                  0     0     0     0  ...  4402      0     0      0\n",
            "\n",
            "[42 rows x 35 columns]\n"
          ],
          "name": "stdout"
        }
      ]
    },
    {
      "cell_type": "markdown",
      "metadata": {
        "id": "j--O7q50UKIo",
        "colab_type": "text"
      },
      "source": [
        "###5. Quantidade de atletas participantes por País?"
      ]
    },
    {
      "cell_type": "code",
      "metadata": {
        "id": "PkOE89d1ULsl",
        "colab_type": "code",
        "colab": {
          "base_uri": "https://localhost:8080/",
          "height": 221
        },
        "outputId": "b046497c-49b9-42b4-9b0d-a94ba8de44cc"
      },
      "source": [
        "df['Team'].value_counts()"
      ],
      "execution_count": null,
      "outputs": [
        {
          "output_type": "execute_result",
          "data": {
            "text/plain": [
              "United States    17847\n",
              "France           11988\n",
              "Great Britain    11404\n",
              "Italy            10260\n",
              "Germany           9326\n",
              "                 ...  \n",
              "Marsouin-8           1\n",
              "Sunrise              1\n",
              "Lancet               1\n",
              "Bonaparte            1\n",
              "Jeannette-18         1\n",
              "Name: Team, Length: 1184, dtype: int64"
            ]
          },
          "metadata": {
            "tags": []
          },
          "execution_count": 39
        }
      ]
    },
    {
      "cell_type": "markdown",
      "metadata": {
        "id": "J17mlwGiUR_-",
        "colab_type": "text"
      },
      "source": [
        "###6. Qual é o nome e o número de medalhas dos participantes?"
      ]
    },
    {
      "cell_type": "code",
      "metadata": {
        "id": "tHQ1OthuUTWG",
        "colab_type": "code",
        "colab": {
          "base_uri": "https://localhost:8080/",
          "height": 272
        },
        "outputId": "bac1a62f-e5b0-4759-aaab-63fb034f5c1d"
      },
      "source": [
        "nomes_medalhas = pd.crosstab(df['Name'], df['Medal'])\n",
        "\n",
        "print(nomes_medalhas)"
      ],
      "execution_count": null,
      "outputs": [
        {
          "output_type": "stream",
          "text": [
            "Medal                         Bronze  Gold  Silver\n",
            "Name                                              \n",
            "A. Albert                          0     1       0\n",
            "A. Dubois                          1     0       1\n",
            "A. Joshua \"Josh\" West              0     0       1\n",
            "A. Lawry                           0     0       1\n",
            "A. M. Woods                        0     0       1\n",
            "...                              ...   ...     ...\n",
            "va Rakusz                          1     0       1\n",
            "va Risztov                         0     1       0\n",
            "va Szkely (-Gyarmati)              0     1       1\n",
            "ver Maximiliano David Banega       0     1       0\n",
            "ystein Pettersen                   0     1       0\n",
            "\n",
            "[28202 rows x 3 columns]\n"
          ],
          "name": "stdout"
        }
      ]
    },
    {
      "cell_type": "markdown",
      "metadata": {
        "id": "qdXi_AA5VaGO",
        "colab_type": "text"
      },
      "source": [
        "###7. Qual é a média de idades dos atletas?"
      ]
    },
    {
      "cell_type": "code",
      "metadata": {
        "id": "thi0Fq5KVb7M",
        "colab_type": "code",
        "colab": {
          "base_uri": "https://localhost:8080/",
          "height": 34
        },
        "outputId": "8b72a9fa-ad3a-4053-c6d4-e3cfb79a511d"
      },
      "source": [
        "media_idades = df['Age'].mean()\n",
        "print('Média de idade dos atletas: ', media_idades)"
      ],
      "execution_count": null,
      "outputs": [
        {
          "output_type": "stream",
          "text": [
            "Média de idade dos atletas:  25.556898357297374\n"
          ],
          "name": "stdout"
        }
      ]
    },
    {
      "cell_type": "markdown",
      "metadata": {
        "id": "VuLp-qvvVikE",
        "colab_type": "text"
      },
      "source": [
        "###8. Quantidade de atletas por idade?"
      ]
    },
    {
      "cell_type": "code",
      "metadata": {
        "id": "KSzX83GsVkPs",
        "colab_type": "code",
        "colab": {
          "base_uri": "https://localhost:8080/",
          "height": 221
        },
        "outputId": "e1299c4c-ac40-4d07-b886-92f1e3928c87"
      },
      "source": [
        "df['Age'].value_counts()"
      ],
      "execution_count": null,
      "outputs": [
        {
          "output_type": "execute_result",
          "data": {
            "text/plain": [
              "23.0    21875\n",
              "24.0    21720\n",
              "22.0    20814\n",
              "25.0    19707\n",
              "21.0    19164\n",
              "        ...  \n",
              "81.0        2\n",
              "10.0        1\n",
              "97.0        1\n",
              "96.0        1\n",
              "84.0        1\n",
              "Name: Age, Length: 74, dtype: int64"
            ]
          },
          "metadata": {
            "tags": []
          },
          "execution_count": 40
        }
      ]
    }
  ]
}