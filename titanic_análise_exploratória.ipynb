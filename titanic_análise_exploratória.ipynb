{
  "nbformat": 4,
  "nbformat_minor": 0,
  "metadata": {
    "kernelspec": {
      "display_name": "Python 3",
      "language": "python",
      "name": "python3"
    },
    "language_info": {
      "codemirror_mode": {
        "name": "ipython",
        "version": 3
      },
      "file_extension": ".py",
      "mimetype": "text/x-python",
      "name": "python",
      "nbconvert_exporter": "python",
      "pygments_lexer": "ipython3",
      "version": "3.7.4"
    },
    "colab": {
      "name": "titanic_análise_exploratória.ipynb",
      "provenance": [],
      "collapsed_sections": [],
      "include_colab_link": true
    }
  },
  "cells": [
    {
      "cell_type": "markdown",
      "metadata": {
        "id": "view-in-github",
        "colab_type": "text"
      },
      "source": [
        "<a href=\"https://colab.research.google.com/github/Fabricioti/Avaliacao_A2_quem_nao_faz_PI/blob/master/titanic_an%C3%A1lise_explorat%C3%B3ria.ipynb\" target=\"_parent\"><img src=\"https://colab.research.google.com/assets/colab-badge.svg\" alt=\"Open In Colab\"/></a>"
      ]
    },
    {
      "cell_type": "markdown",
      "metadata": {
        "id": "ePJEks3812nR",
        "colab_type": "text"
      },
      "source": [
        "# Análise de Dados Exploratória do Titanic\n",
        "\n",
        "![titanic](img/titanic_historical.jpg \"Pintura do Titanic\")"
      ]
    },
    {
      "cell_type": "markdown",
      "metadata": {
        "id": "dpl_aUHO12nR",
        "colab_type": "text"
      },
      "source": [
        "# 1. Introdução\n",
        "\n",
        "O RMS Titanic foi um navio de passageiros britânico operado pela empresa *White Star Line* que afundou no Oceano Atlântico Norte nas primeiras horas da manhã de 15 de abril de 1912, depois de atingir um iceberg durante sua viagem inaugural de Southampton a Nova York. Dos 2.224 passageiros e tripulantes a bordo, mais de 1.500 morreram, tornando o naufrágio um dos desastres marítimos comerciais mais mortais da história moderna em tempos de paz.\n",
        "\n",
        "Neste estudo iremos explorar um conjunto de dados baseado na lista de passageiros do Titanic editada por Michael A. Findlay, publicada originalmente em Eaton & Haas (1994) Titanic: Triumph and Tragedy, Patrick Stephens Ltd, e expandida com a ajuda da comunidade da Internet. Os arquivos HTML originais foram obtidos por Philip Hind (1999) e o *dataset* descreve o status de sobrevivência de passageiros individuais no Titanic. Ele não contém informações para a tripulação, mas contém idades atuais e estimadas para quase 80% dos passageiros."
      ]
    },
    {
      "cell_type": "markdown",
      "metadata": {
        "id": "daYVz4DX12nS",
        "colab_type": "text"
      },
      "source": [
        "## 1.1. Objetivos\n",
        "\n",
        "O objetivo deste estudo é realizar uma Análise Exploratória dos Dados (Exploratory Data Analysis - EDA) do conjunto de dados `titanic3`, adaptado pelo autor e disponível em [data/titanic3.csv](data/titanic.csv); a fim de caracterizar o perfil dos sobreviventes do fatídico naufrágio. Especificiamente serão respondidas as seguintes questões de pesquisa:\n",
        "\n",
        "1. [Qual é o número de Sobreviventes?](#3.1.-Qual-é-o-número-de-Sobreviventes?)\n",
        "2. [Homens ou mulheres tiveram mais chances de sobreviver?](#3.2.-Homens-ou-mulheres-tiveram-mais-chances-de-sobreviver?)\n",
        "3. [Qual classe social teve mais sobreviventes?](#3.3.-Qual-classe-social-teve-mais-sobreviventes?)\n",
        "4. [Qual faixa etária teve mais chances de sobreviver?](#3.4.-Qual-faixa-etária-teve-mais-chances-de-sobreviver?)\n"
      ]
    },
    {
      "cell_type": "markdown",
      "metadata": {
        "id": "VC_adOzd12nS",
        "colab_type": "text"
      },
      "source": [
        "# 2. Metodologia\n",
        "\n",
        "Nesta seção será apresentado todo o processo de preparação, organização e limpeza de dados feito no *dataset* que possui os seguintes dados:\n",
        "\n",
        "| Coluna          | Descrição                                                                 |\n",
        "|-----------------|---------------------------------------------------------------------------|\n",
        "| id_passageiro   | Identficador único do passageiro.                                         |\n",
        "| classe          | Classe social.                                                            |\n",
        "| sobreviveu      | Sobrevivente? Sim (1), Não (0).                                           |\n",
        "| nome            | Nome do passageiro.                                                       |\n",
        "| sexo            | Masculino (male), Feminino (female).                                      |\n",
        "| idade           | Idade do passageiro.                                                      |\n",
        "| irmaos_conjuges | Número de irmãos e cônjuges a bordo.                                      |\n",
        "| pais_filhos     | Número de pais e filhos a bordo.                                          |\n",
        "| bilhete         | Número do bilhete                                                         |\n",
        "| tarifa          | Preço da tarifa do passageiro.                                            |\n",
        "| cabine          | Cabine.                                                                   |\n",
        "| embarque        | Nome do porto de embarque: C = Cherbourg; Q = Queenstown; S = Southampton |\n",
        "| bote            | Bote salva vidas.                                                         |\n",
        "| corpo           | Número de identificação do corpo.                                         |\n",
        "| destino         | Local de desembarque do passageiro.                                       |\n",
        "\n",
        "## OBSERVAÇÕES\n",
        "\n",
        "- `classe` é uma aproximação do status socioeconômico na época, onde: 1 = Classe Alta1; 2 = Classe Média e 3 = Classe Baixa;\n",
        "- `idade` está representada em anos, porém, se a idade for menor que Um (1) ou caso tenha sido estimada, ela estará com casas decimais xx.5;\n",
        "- `tarifa` está em Libras esterlinas (British Pounds - £) anteriores a 1970;\n",
        "- `irmaos_conjuges` e `pais_filhos`: as variáveis de relação familiar de algumas relações foram ignoradas; a seguir estão as definições usadas:\n",
        "    - **Irmão**: Irmão, irmã, meio-irmão ou meia-irmã do passageiro a bordo do Titanic;\n",
        "    - **Cônjuge**: Marido ou esposa do passageiro a bordo do Titanic (amantes e noivos ignorados);\n",
        "    - **Pai**: Mãe ou pai do passageiro a bordo do Titanic;\n",
        "    - **Criança**: Filho, Filha, Enteado ou Enteada do Passageiro a bordo do Titanic;\n",
        "    - Outros parentes excluídos deste estudo incluem primos, sobrinhos / sobrinhas, tias / tios e parentes;\n",
        "    - Algumas crianças viajavam apenas com uma babá, portanto foi atribuído 0 para elas em pais_filhos; \n",
        "    - Alguns viajaram com amigos ou vizinhos muito próximos em uma vila, no entanto, as definições não apóiam essas relações.\n"
      ]
    },
    {
      "cell_type": "markdown",
      "metadata": {
        "id": "0V3q-Y4n12nT",
        "colab_type": "text"
      },
      "source": [
        "## 2.1. Configuração do Ambiente"
      ]
    },
    {
      "cell_type": "code",
      "metadata": {
        "id": "I6tJSn9Z12nU",
        "colab_type": "code",
        "colab": {}
      },
      "source": [
        "import numpy as np\n",
        "import pandas as pd"
      ],
      "execution_count": null,
      "outputs": []
    },
    {
      "cell_type": "markdown",
      "metadata": {
        "id": "oC237mXQ12nW",
        "colab_type": "text"
      },
      "source": [
        "## 2.2. Leitura dos Dados"
      ]
    },
    {
      "cell_type": "code",
      "metadata": {
        "id": "zIn-2dnv12nW",
        "colab_type": "code",
        "colab": {
          "base_uri": "https://localhost:8080/",
          "height": 204
        },
        "outputId": "ea604280-91d0-438d-e511-c98ebcf58fdd"
      },
      "source": [
        "df = pd.read_csv('titanic3.csv')\n",
        "\n",
        "df.head()"
      ],
      "execution_count": null,
      "outputs": [
        {
          "output_type": "execute_result",
          "data": {
            "text/html": [
              "<div>\n",
              "<style scoped>\n",
              "    .dataframe tbody tr th:only-of-type {\n",
              "        vertical-align: middle;\n",
              "    }\n",
              "\n",
              "    .dataframe tbody tr th {\n",
              "        vertical-align: top;\n",
              "    }\n",
              "\n",
              "    .dataframe thead th {\n",
              "        text-align: right;\n",
              "    }\n",
              "</style>\n",
              "<table border=\"1\" class=\"dataframe\">\n",
              "  <thead>\n",
              "    <tr style=\"text-align: right;\">\n",
              "      <th></th>\n",
              "      <th>id_passageiro</th>\n",
              "      <th>classe</th>\n",
              "      <th>sobreviveu</th>\n",
              "      <th>nome</th>\n",
              "      <th>sexo</th>\n",
              "      <th>idade</th>\n",
              "      <th>irmaos_conjuges</th>\n",
              "      <th>pais_filhos</th>\n",
              "      <th>bilhete</th>\n",
              "      <th>tarifa</th>\n",
              "      <th>cabine</th>\n",
              "      <th>embarque</th>\n",
              "      <th>bote</th>\n",
              "      <th>corpo</th>\n",
              "      <th>destino</th>\n",
              "    </tr>\n",
              "  </thead>\n",
              "  <tbody>\n",
              "    <tr>\n",
              "      <th>0</th>\n",
              "      <td>1</td>\n",
              "      <td>1</td>\n",
              "      <td>1</td>\n",
              "      <td>Allen, Miss. Elisabeth Walton</td>\n",
              "      <td>female</td>\n",
              "      <td>29.0</td>\n",
              "      <td>0</td>\n",
              "      <td>0</td>\n",
              "      <td>24160</td>\n",
              "      <td>211.3375</td>\n",
              "      <td>B5</td>\n",
              "      <td>S</td>\n",
              "      <td>2</td>\n",
              "      <td>NaN</td>\n",
              "      <td>St Louis, MO</td>\n",
              "    </tr>\n",
              "    <tr>\n",
              "      <th>1</th>\n",
              "      <td>2</td>\n",
              "      <td>1</td>\n",
              "      <td>1</td>\n",
              "      <td>Allison, Master. Hudson Trevor</td>\n",
              "      <td>male</td>\n",
              "      <td>1.0</td>\n",
              "      <td>1</td>\n",
              "      <td>2</td>\n",
              "      <td>113781</td>\n",
              "      <td>151.5500</td>\n",
              "      <td>C22 C26</td>\n",
              "      <td>S</td>\n",
              "      <td>11</td>\n",
              "      <td>NaN</td>\n",
              "      <td>Montreal, PQ / Chesterville, ON</td>\n",
              "    </tr>\n",
              "    <tr>\n",
              "      <th>2</th>\n",
              "      <td>3</td>\n",
              "      <td>1</td>\n",
              "      <td>0</td>\n",
              "      <td>Allison, Miss. Helen Loraine</td>\n",
              "      <td>female</td>\n",
              "      <td>2.0</td>\n",
              "      <td>1</td>\n",
              "      <td>2</td>\n",
              "      <td>113781</td>\n",
              "      <td>151.5500</td>\n",
              "      <td>C22 C26</td>\n",
              "      <td>S</td>\n",
              "      <td>NaN</td>\n",
              "      <td>NaN</td>\n",
              "      <td>Montreal, PQ / Chesterville, ON</td>\n",
              "    </tr>\n",
              "    <tr>\n",
              "      <th>3</th>\n",
              "      <td>4</td>\n",
              "      <td>1</td>\n",
              "      <td>0</td>\n",
              "      <td>Allison, Mr. Hudson Joshua Creighton</td>\n",
              "      <td>male</td>\n",
              "      <td>30.0</td>\n",
              "      <td>1</td>\n",
              "      <td>2</td>\n",
              "      <td>113781</td>\n",
              "      <td>151.5500</td>\n",
              "      <td>C22 C26</td>\n",
              "      <td>S</td>\n",
              "      <td>NaN</td>\n",
              "      <td>135.0</td>\n",
              "      <td>Montreal, PQ / Chesterville, ON</td>\n",
              "    </tr>\n",
              "    <tr>\n",
              "      <th>4</th>\n",
              "      <td>5</td>\n",
              "      <td>1</td>\n",
              "      <td>0</td>\n",
              "      <td>Allison, Mrs. Hudson J C (Bessie Waldo Daniels)</td>\n",
              "      <td>female</td>\n",
              "      <td>25.0</td>\n",
              "      <td>1</td>\n",
              "      <td>2</td>\n",
              "      <td>113781</td>\n",
              "      <td>151.5500</td>\n",
              "      <td>C22 C26</td>\n",
              "      <td>S</td>\n",
              "      <td>NaN</td>\n",
              "      <td>NaN</td>\n",
              "      <td>Montreal, PQ / Chesterville, ON</td>\n",
              "    </tr>\n",
              "  </tbody>\n",
              "</table>\n",
              "</div>"
            ],
            "text/plain": [
              "   id_passageiro  classe  ...  corpo                          destino\n",
              "0              1       1  ...    NaN                     St Louis, MO\n",
              "1              2       1  ...    NaN  Montreal, PQ / Chesterville, ON\n",
              "2              3       1  ...    NaN  Montreal, PQ / Chesterville, ON\n",
              "3              4       1  ...  135.0  Montreal, PQ / Chesterville, ON\n",
              "4              5       1  ...    NaN  Montreal, PQ / Chesterville, ON\n",
              "\n",
              "[5 rows x 15 columns]"
            ]
          },
          "metadata": {
            "tags": []
          },
          "execution_count": 35
        }
      ]
    },
    {
      "cell_type": "markdown",
      "metadata": {
        "id": "JLhMnOrR12nZ",
        "colab_type": "text"
      },
      "source": [
        "## 2.3. Organização e Limpeza dos Dados"
      ]
    },
    {
      "cell_type": "markdown",
      "metadata": {
        "id": "JOpES0RV12nZ",
        "colab_type": "text"
      },
      "source": [
        "### 2.3.1. Visão Geral do Conjunto de Dados"
      ]
    },
    {
      "cell_type": "code",
      "metadata": {
        "id": "I_NHjq1u12na",
        "colab_type": "code",
        "colab": {
          "base_uri": "https://localhost:8080/",
          "height": 391
        },
        "outputId": "c19dffd7-2657-42d4-ebdf-c077fc5e6599"
      },
      "source": [
        "df.info()"
      ],
      "execution_count": null,
      "outputs": [
        {
          "output_type": "stream",
          "text": [
            "<class 'pandas.core.frame.DataFrame'>\n",
            "RangeIndex: 1309 entries, 0 to 1308\n",
            "Data columns (total 15 columns):\n",
            " #   Column           Non-Null Count  Dtype  \n",
            "---  ------           --------------  -----  \n",
            " 0   id_passageiro    1309 non-null   int64  \n",
            " 1   classe           1309 non-null   int64  \n",
            " 2   sobreviveu       1309 non-null   int64  \n",
            " 3   nome             1309 non-null   object \n",
            " 4   sexo             1309 non-null   object \n",
            " 5   idade            1046 non-null   float64\n",
            " 6   irmaos_conjuges  1309 non-null   int64  \n",
            " 7   pais_filhos      1309 non-null   int64  \n",
            " 8   bilhete          1309 non-null   object \n",
            " 9   tarifa           1308 non-null   float64\n",
            " 10  cabine           295 non-null    object \n",
            " 11  embarque         1307 non-null   object \n",
            " 12  bote             486 non-null    object \n",
            " 13  corpo            121 non-null    float64\n",
            " 14  destino          745 non-null    object \n",
            "dtypes: float64(3), int64(5), object(7)\n",
            "memory usage: 153.5+ KB\n"
          ],
          "name": "stdout"
        }
      ]
    },
    {
      "cell_type": "code",
      "metadata": {
        "id": "F3WfRzeV12nc",
        "colab_type": "code",
        "colab": {
          "base_uri": "https://localhost:8080/",
          "height": 317
        },
        "outputId": "a66a2f8f-d216-4e29-93e9-5d542528e45a"
      },
      "source": [
        "df.describe()"
      ],
      "execution_count": null,
      "outputs": [
        {
          "output_type": "execute_result",
          "data": {
            "text/html": [
              "<div>\n",
              "<style scoped>\n",
              "    .dataframe tbody tr th:only-of-type {\n",
              "        vertical-align: middle;\n",
              "    }\n",
              "\n",
              "    .dataframe tbody tr th {\n",
              "        vertical-align: top;\n",
              "    }\n",
              "\n",
              "    .dataframe thead th {\n",
              "        text-align: right;\n",
              "    }\n",
              "</style>\n",
              "<table border=\"1\" class=\"dataframe\">\n",
              "  <thead>\n",
              "    <tr style=\"text-align: right;\">\n",
              "      <th></th>\n",
              "      <th>id_passageiro</th>\n",
              "      <th>classe</th>\n",
              "      <th>sobreviveu</th>\n",
              "      <th>idade</th>\n",
              "      <th>irmaos_conjuges</th>\n",
              "      <th>pais_filhos</th>\n",
              "      <th>tarifa</th>\n",
              "      <th>corpo</th>\n",
              "    </tr>\n",
              "  </thead>\n",
              "  <tbody>\n",
              "    <tr>\n",
              "      <th>count</th>\n",
              "      <td>1309.000000</td>\n",
              "      <td>1309.000000</td>\n",
              "      <td>1309.000000</td>\n",
              "      <td>1046.000000</td>\n",
              "      <td>1309.000000</td>\n",
              "      <td>1309.000000</td>\n",
              "      <td>1308.000000</td>\n",
              "      <td>121.000000</td>\n",
              "    </tr>\n",
              "    <tr>\n",
              "      <th>mean</th>\n",
              "      <td>655.000000</td>\n",
              "      <td>2.294882</td>\n",
              "      <td>0.381971</td>\n",
              "      <td>29.897706</td>\n",
              "      <td>0.498854</td>\n",
              "      <td>0.385027</td>\n",
              "      <td>33.295479</td>\n",
              "      <td>160.809917</td>\n",
              "    </tr>\n",
              "    <tr>\n",
              "      <th>std</th>\n",
              "      <td>378.020061</td>\n",
              "      <td>0.837836</td>\n",
              "      <td>0.486055</td>\n",
              "      <td>14.414973</td>\n",
              "      <td>1.041658</td>\n",
              "      <td>0.865560</td>\n",
              "      <td>51.758668</td>\n",
              "      <td>97.696922</td>\n",
              "    </tr>\n",
              "    <tr>\n",
              "      <th>min</th>\n",
              "      <td>1.000000</td>\n",
              "      <td>1.000000</td>\n",
              "      <td>0.000000</td>\n",
              "      <td>0.000000</td>\n",
              "      <td>0.000000</td>\n",
              "      <td>0.000000</td>\n",
              "      <td>0.000000</td>\n",
              "      <td>1.000000</td>\n",
              "    </tr>\n",
              "    <tr>\n",
              "      <th>25%</th>\n",
              "      <td>328.000000</td>\n",
              "      <td>2.000000</td>\n",
              "      <td>0.000000</td>\n",
              "      <td>21.000000</td>\n",
              "      <td>0.000000</td>\n",
              "      <td>0.000000</td>\n",
              "      <td>7.895800</td>\n",
              "      <td>72.000000</td>\n",
              "    </tr>\n",
              "    <tr>\n",
              "      <th>50%</th>\n",
              "      <td>655.000000</td>\n",
              "      <td>3.000000</td>\n",
              "      <td>0.000000</td>\n",
              "      <td>28.000000</td>\n",
              "      <td>0.000000</td>\n",
              "      <td>0.000000</td>\n",
              "      <td>14.454200</td>\n",
              "      <td>155.000000</td>\n",
              "    </tr>\n",
              "    <tr>\n",
              "      <th>75%</th>\n",
              "      <td>982.000000</td>\n",
              "      <td>3.000000</td>\n",
              "      <td>1.000000</td>\n",
              "      <td>39.000000</td>\n",
              "      <td>1.000000</td>\n",
              "      <td>0.000000</td>\n",
              "      <td>31.275000</td>\n",
              "      <td>256.000000</td>\n",
              "    </tr>\n",
              "    <tr>\n",
              "      <th>max</th>\n",
              "      <td>1309.000000</td>\n",
              "      <td>3.000000</td>\n",
              "      <td>1.000000</td>\n",
              "      <td>80.000000</td>\n",
              "      <td>8.000000</td>\n",
              "      <td>9.000000</td>\n",
              "      <td>512.329200</td>\n",
              "      <td>328.000000</td>\n",
              "    </tr>\n",
              "  </tbody>\n",
              "</table>\n",
              "</div>"
            ],
            "text/plain": [
              "       id_passageiro       classe  ...       tarifa       corpo\n",
              "count    1309.000000  1309.000000  ...  1308.000000  121.000000\n",
              "mean      655.000000     2.294882  ...    33.295479  160.809917\n",
              "std       378.020061     0.837836  ...    51.758668   97.696922\n",
              "min         1.000000     1.000000  ...     0.000000    1.000000\n",
              "25%       328.000000     2.000000  ...     7.895800   72.000000\n",
              "50%       655.000000     3.000000  ...    14.454200  155.000000\n",
              "75%       982.000000     3.000000  ...    31.275000  256.000000\n",
              "max      1309.000000     3.000000  ...   512.329200  328.000000\n",
              "\n",
              "[8 rows x 8 columns]"
            ]
          },
          "metadata": {
            "tags": []
          },
          "execution_count": 9
        }
      ]
    },
    {
      "cell_type": "markdown",
      "metadata": {
        "id": "ltAWHFoa12ne",
        "colab_type": "text"
      },
      "source": [
        "### 2.3.2 Remoção de Colunas\n",
        "Remoção de colunas incompletas e/ou desnecessárias para a análise."
      ]
    },
    {
      "cell_type": "code",
      "metadata": {
        "id": "YBiyPHRR12nf",
        "colab_type": "code",
        "colab": {
          "base_uri": "https://localhost:8080/",
          "height": 323
        },
        "outputId": "2547a89a-767e-4655-adb1-f9d60098fc44"
      },
      "source": [
        "colunas_removidas = ['cabine', 'bote', 'corpo', 'destino']\n",
        "df.drop(columns=colunas_removidas, inplace=True)\n",
        "\n",
        "df.info()"
      ],
      "execution_count": null,
      "outputs": [
        {
          "output_type": "stream",
          "text": [
            "<class 'pandas.core.frame.DataFrame'>\n",
            "RangeIndex: 1309 entries, 0 to 1308\n",
            "Data columns (total 11 columns):\n",
            " #   Column           Non-Null Count  Dtype  \n",
            "---  ------           --------------  -----  \n",
            " 0   id_passageiro    1309 non-null   int64  \n",
            " 1   classe           1309 non-null   int64  \n",
            " 2   sobreviveu       1309 non-null   int64  \n",
            " 3   nome             1309 non-null   object \n",
            " 4   sexo             1309 non-null   object \n",
            " 5   idade            1046 non-null   float64\n",
            " 6   irmaos_conjuges  1309 non-null   int64  \n",
            " 7   pais_filhos      1309 non-null   int64  \n",
            " 8   bilhete          1309 non-null   object \n",
            " 9   tarifa           1308 non-null   float64\n",
            " 10  embarque         1307 non-null   object \n",
            "dtypes: float64(2), int64(5), object(4)\n",
            "memory usage: 112.6+ KB\n"
          ],
          "name": "stdout"
        }
      ]
    },
    {
      "cell_type": "markdown",
      "metadata": {
        "id": "tRMoS81K12nh",
        "colab_type": "text"
      },
      "source": [
        "### 2.3.3. Dados Ausentes"
      ]
    },
    {
      "cell_type": "code",
      "metadata": {
        "id": "mpGdeen512ni",
        "colab_type": "code",
        "colab": {
          "base_uri": "https://localhost:8080/",
          "height": 255
        },
        "outputId": "ef21ffdc-5981-42ae-9efe-598021729bf7"
      },
      "source": [
        "print('Possui Dados ausentes?', df.isnull().values.any())\n",
        "\n",
        "print('total de dados ausentes: ', df.isnull().sum().sum())\n",
        "print('total de dados ausentes por coluna: ', df.isnull().sum())"
      ],
      "execution_count": null,
      "outputs": [
        {
          "output_type": "stream",
          "text": [
            "Possui Dados ausentes? True\n",
            "total de dados ausentes:  266\n",
            "total de dados ausentes por coluna:  id_passageiro        0\n",
            "classe               0\n",
            "sobreviveu           0\n",
            "nome                 0\n",
            "sexo                 0\n",
            "idade              263\n",
            "irmaos_conjuges      0\n",
            "pais_filhos          0\n",
            "bilhete              0\n",
            "tarifa               1\n",
            "embarque             2\n",
            "dtype: int64\n"
          ],
          "name": "stdout"
        }
      ]
    },
    {
      "cell_type": "markdown",
      "metadata": {
        "id": "tkKLpNn212nk",
        "colab_type": "text"
      },
      "source": [
        "#### 2.3.3.1 Idades Ausentes\n",
        "Para os dados ausentes da coluna `idade` será feita a substituição dos dados vazios pela média das idades na época."
      ]
    },
    {
      "cell_type": "code",
      "metadata": {
        "id": "f31iLbBv12nl",
        "colab_type": "code",
        "colab": {
          "base_uri": "https://localhost:8080/",
          "height": 255
        },
        "outputId": "9b48aa23-53f6-444d-8794-11556a423c35"
      },
      "source": [
        "# média da coluna idade\n",
        "media_idades = df['idade'].mean()\n",
        "print('Média das idades: ', media_idades)\n",
        "\n",
        "# subistituir os dados ausentes pela média\n",
        "df['idade'].fillna(media_idades, inplace=True)\n",
        "\n",
        "print('total de dados ausentes: ', df.isnull().sum().sum())\n",
        "print('total de dados ausentes por coluna: ', df.isnull().sum())"
      ],
      "execution_count": null,
      "outputs": [
        {
          "output_type": "stream",
          "text": [
            "Média das idades:  29.897705544933174\n",
            "total de dados ausentes:  3\n",
            "total de dados ausentes por coluna:  id_passageiro      0\n",
            "classe             0\n",
            "sobreviveu         0\n",
            "nome               0\n",
            "sexo               0\n",
            "idade              0\n",
            "irmaos_conjuges    0\n",
            "pais_filhos        0\n",
            "bilhete            0\n",
            "tarifa             1\n",
            "embarque           2\n",
            "dtype: int64\n"
          ],
          "name": "stdout"
        }
      ]
    },
    {
      "cell_type": "markdown",
      "metadata": {
        "id": "IG-EKIia12nn",
        "colab_type": "text"
      },
      "source": [
        "#### 2.3.3.2 Tarifas Ausentes\n",
        "Para os dados ausentes da coluna `tarifa`será feita a substituição dos dados vazios pela média de preço das tarifas na época."
      ]
    },
    {
      "cell_type": "code",
      "metadata": {
        "id": "OAbyzX0P12nn",
        "colab_type": "code",
        "colab": {
          "base_uri": "https://localhost:8080/",
          "height": 255
        },
        "outputId": "532f8a08-1e16-472a-f0b5-5b422e51b992"
      },
      "source": [
        "# média da coluna tarifa\n",
        "media_tarifas = df['tarifa'].mean()\n",
        "print('Média das tarifas: ', media_tarifas)\n",
        "\n",
        "df['tarifa'].fillna(media_tarifas, inplace=True)\n",
        "\n",
        "print('total de dados ausentes: ', df.isnull().sum().sum())\n",
        "print('total de dados ausentes por coluna: ', df.isnull().sum())"
      ],
      "execution_count": null,
      "outputs": [
        {
          "output_type": "stream",
          "text": [
            "Média das tarifas:  33.29547928134572\n",
            "total de dados ausentes:  2\n",
            "total de dados ausentes por coluna:  id_passageiro      0\n",
            "classe             0\n",
            "sobreviveu         0\n",
            "nome               0\n",
            "sexo               0\n",
            "idade              0\n",
            "irmaos_conjuges    0\n",
            "pais_filhos        0\n",
            "bilhete            0\n",
            "tarifa             0\n",
            "embarque           2\n",
            "dtype: int64\n"
          ],
          "name": "stdout"
        }
      ]
    },
    {
      "cell_type": "markdown",
      "metadata": {
        "id": "ZvFy1aSh12np",
        "colab_type": "text"
      },
      "source": [
        "#### 2.3.3.3 Portos de Embarque Ausentes\n",
        "Para os dados ausentes da coluna `embarque`será feita a remoção dos dados vazios."
      ]
    },
    {
      "cell_type": "code",
      "metadata": {
        "id": "qa7HJsB_12nq",
        "colab_type": "code",
        "colab": {
          "base_uri": "https://localhost:8080/",
          "height": 238
        },
        "outputId": "a3b65909-0a2d-4671-e3d9-0384fdd8e695"
      },
      "source": [
        "df.dropna(subset=['embarque'], inplace=True)\n",
        "\n",
        "print('total de dados ausentes: ', df.isnull().sum().sum())\n",
        "print('total de dados ausentes por coluna: ', df.isnull().sum())"
      ],
      "execution_count": null,
      "outputs": [
        {
          "output_type": "stream",
          "text": [
            "total de dados ausentes:  0\n",
            "total de dados ausentes por coluna:  id_passageiro      0\n",
            "classe             0\n",
            "sobreviveu         0\n",
            "nome               0\n",
            "sexo               0\n",
            "idade              0\n",
            "irmaos_conjuges    0\n",
            "pais_filhos        0\n",
            "bilhete            0\n",
            "tarifa             0\n",
            "embarque           0\n",
            "dtype: int64\n"
          ],
          "name": "stdout"
        }
      ]
    },
    {
      "cell_type": "markdown",
      "metadata": {
        "id": "P69kLLWY12ns",
        "colab_type": "text"
      },
      "source": [
        "## 2.4. Mapeamento de Dados\n",
        "Para melhorar a análise e interpretação dos dados os seguintes atributos serão modificados:\n",
        "\n",
        "| Coluna    | Original     | Modificado                          |\n",
        "|:----------|:-------------|:------------------------------------|\n",
        "| Classe    | 1, 2, 3      | Alta, Média, Baixa                  |\n",
        "| Sexo      | male, female | M, F                                |\n",
        "| Embarque  | C, Q, S      | Cherbourg, Queenstown, Southampton  |\n"
      ]
    },
    {
      "cell_type": "code",
      "metadata": {
        "id": "28uK8GbL12ns",
        "colab_type": "code",
        "colab": {
          "base_uri": "https://localhost:8080/",
          "height": 204
        },
        "outputId": "471e665e-64b0-44a1-87e4-e5d635c9c1f7"
      },
      "source": [
        "classe_social = {1: 'Alta', 2: 'Média', 3: 'Baixa'}\n",
        "sexo = {'male': 'M', 'female': 'F'}\n",
        "embarque = {'C': 'Cherbourg', 'Q': 'Queenstown', 'S': 'Southampton'}\n",
        "sobreviveu = {1: 'S', 0: 'N'}\n",
        "\n",
        "df.classe.replace(classe_social, inplace=True)\n",
        "df.sexo.replace(sexo, inplace=True)\n",
        "df.embarque.replace(embarque, inplace=True)\n",
        "df.sobreviveu.replace(sobreviveu, inplace=True)\n",
        "\n",
        "df.head()"
      ],
      "execution_count": null,
      "outputs": [
        {
          "output_type": "execute_result",
          "data": {
            "text/html": [
              "<div>\n",
              "<style scoped>\n",
              "    .dataframe tbody tr th:only-of-type {\n",
              "        vertical-align: middle;\n",
              "    }\n",
              "\n",
              "    .dataframe tbody tr th {\n",
              "        vertical-align: top;\n",
              "    }\n",
              "\n",
              "    .dataframe thead th {\n",
              "        text-align: right;\n",
              "    }\n",
              "</style>\n",
              "<table border=\"1\" class=\"dataframe\">\n",
              "  <thead>\n",
              "    <tr style=\"text-align: right;\">\n",
              "      <th></th>\n",
              "      <th>id_passageiro</th>\n",
              "      <th>classe</th>\n",
              "      <th>sobreviveu</th>\n",
              "      <th>nome</th>\n",
              "      <th>sexo</th>\n",
              "      <th>idade</th>\n",
              "      <th>irmaos_conjuges</th>\n",
              "      <th>pais_filhos</th>\n",
              "      <th>bilhete</th>\n",
              "      <th>tarifa</th>\n",
              "      <th>cabine</th>\n",
              "      <th>embarque</th>\n",
              "      <th>bote</th>\n",
              "      <th>corpo</th>\n",
              "      <th>destino</th>\n",
              "      <th>total_parentes</th>\n",
              "      <th>faixa_etaria</th>\n",
              "    </tr>\n",
              "  </thead>\n",
              "  <tbody>\n",
              "    <tr>\n",
              "      <th>0</th>\n",
              "      <td>1</td>\n",
              "      <td>Alta</td>\n",
              "      <td>S</td>\n",
              "      <td>Allen, Miss. Elisabeth Walton</td>\n",
              "      <td>F</td>\n",
              "      <td>29.0</td>\n",
              "      <td>0</td>\n",
              "      <td>0</td>\n",
              "      <td>24160</td>\n",
              "      <td>211.3375</td>\n",
              "      <td>B5</td>\n",
              "      <td>Southampton</td>\n",
              "      <td>2</td>\n",
              "      <td>NaN</td>\n",
              "      <td>St Louis, MO</td>\n",
              "      <td>0</td>\n",
              "      <td>20 a 29 anos</td>\n",
              "    </tr>\n",
              "    <tr>\n",
              "      <th>1</th>\n",
              "      <td>2</td>\n",
              "      <td>Alta</td>\n",
              "      <td>S</td>\n",
              "      <td>Allison, Master. Hudson Trevor</td>\n",
              "      <td>M</td>\n",
              "      <td>1.0</td>\n",
              "      <td>1</td>\n",
              "      <td>2</td>\n",
              "      <td>113781</td>\n",
              "      <td>151.5500</td>\n",
              "      <td>C22 C26</td>\n",
              "      <td>Southampton</td>\n",
              "      <td>11</td>\n",
              "      <td>NaN</td>\n",
              "      <td>Montreal, PQ / Chesterville, ON</td>\n",
              "      <td>3</td>\n",
              "      <td>0 a 9 anos</td>\n",
              "    </tr>\n",
              "    <tr>\n",
              "      <th>2</th>\n",
              "      <td>3</td>\n",
              "      <td>Alta</td>\n",
              "      <td>N</td>\n",
              "      <td>Allison, Miss. Helen Loraine</td>\n",
              "      <td>F</td>\n",
              "      <td>2.0</td>\n",
              "      <td>1</td>\n",
              "      <td>2</td>\n",
              "      <td>113781</td>\n",
              "      <td>151.5500</td>\n",
              "      <td>C22 C26</td>\n",
              "      <td>Southampton</td>\n",
              "      <td>NaN</td>\n",
              "      <td>NaN</td>\n",
              "      <td>Montreal, PQ / Chesterville, ON</td>\n",
              "      <td>3</td>\n",
              "      <td>0 a 9 anos</td>\n",
              "    </tr>\n",
              "    <tr>\n",
              "      <th>3</th>\n",
              "      <td>4</td>\n",
              "      <td>Alta</td>\n",
              "      <td>N</td>\n",
              "      <td>Allison, Mr. Hudson Joshua Creighton</td>\n",
              "      <td>M</td>\n",
              "      <td>30.0</td>\n",
              "      <td>1</td>\n",
              "      <td>2</td>\n",
              "      <td>113781</td>\n",
              "      <td>151.5500</td>\n",
              "      <td>C22 C26</td>\n",
              "      <td>Southampton</td>\n",
              "      <td>NaN</td>\n",
              "      <td>135.0</td>\n",
              "      <td>Montreal, PQ / Chesterville, ON</td>\n",
              "      <td>3</td>\n",
              "      <td>30 a 39 anos</td>\n",
              "    </tr>\n",
              "    <tr>\n",
              "      <th>4</th>\n",
              "      <td>5</td>\n",
              "      <td>Alta</td>\n",
              "      <td>N</td>\n",
              "      <td>Allison, Mrs. Hudson J C (Bessie Waldo Daniels)</td>\n",
              "      <td>F</td>\n",
              "      <td>25.0</td>\n",
              "      <td>1</td>\n",
              "      <td>2</td>\n",
              "      <td>113781</td>\n",
              "      <td>151.5500</td>\n",
              "      <td>C22 C26</td>\n",
              "      <td>Southampton</td>\n",
              "      <td>NaN</td>\n",
              "      <td>NaN</td>\n",
              "      <td>Montreal, PQ / Chesterville, ON</td>\n",
              "      <td>3</td>\n",
              "      <td>20 a 29 anos</td>\n",
              "    </tr>\n",
              "  </tbody>\n",
              "</table>\n",
              "</div>"
            ],
            "text/plain": [
              "   id_passageiro classe  ... total_parentes  faixa_etaria\n",
              "0              1   Alta  ...              0  20 a 29 anos\n",
              "1              2   Alta  ...              3    0 a 9 anos\n",
              "2              3   Alta  ...              3    0 a 9 anos\n",
              "3              4   Alta  ...              3  30 a 39 anos\n",
              "4              5   Alta  ...              3  20 a 29 anos\n",
              "\n",
              "[5 rows x 17 columns]"
            ]
          },
          "metadata": {
            "tags": []
          },
          "execution_count": 48
        }
      ]
    },
    {
      "cell_type": "markdown",
      "metadata": {
        "id": "jFsaTYg-12nu",
        "colab_type": "text"
      },
      "source": [
        "## 2.5.  Feature Engineering\n",
        "\n",
        "A engenharia de recursos (*Feature Engineering*) é o processo de usar o conhecimento do domínio para extrair recursos dos dados brutos. Neste estudo serão acrescentadas as seguintes colunas para enriquecer a análise de dados:\n",
        "\n",
        "| Coluna         | Descrição                                                         |\n",
        "|:---------------|:------------------------------------------------------------------|\n",
        "| total_parentes | Número total de parentes a bordo: `irmaos_conjuges + pais_filhos` |\n",
        "| faixa_etaria   | Intervalo de idades dos passageiros.                              |"
      ]
    },
    {
      "cell_type": "markdown",
      "metadata": {
        "id": "15gTxx7812nu",
        "colab_type": "text"
      },
      "source": [
        "### 2.5.1 Total de Parentes"
      ]
    },
    {
      "cell_type": "code",
      "metadata": {
        "id": "OxwdCULh12nv",
        "colab_type": "code",
        "colab": {
          "base_uri": "https://localhost:8080/",
          "height": 408
        },
        "outputId": "9753bc44-edc6-4c48-f3c2-1c13ad89b1be"
      },
      "source": [
        "df['total_parentes'] = df['irmaos_conjuges'] + df['pais_filhos']\n",
        "df['total_parentes']\n",
        "df.info()"
      ],
      "execution_count": null,
      "outputs": [
        {
          "output_type": "stream",
          "text": [
            "<class 'pandas.core.frame.DataFrame'>\n",
            "RangeIndex: 1309 entries, 0 to 1308\n",
            "Data columns (total 16 columns):\n",
            " #   Column           Non-Null Count  Dtype  \n",
            "---  ------           --------------  -----  \n",
            " 0   id_passageiro    1309 non-null   int64  \n",
            " 1   classe           1309 non-null   object \n",
            " 2   sobreviveu       1309 non-null   object \n",
            " 3   nome             1309 non-null   object \n",
            " 4   sexo             1309 non-null   object \n",
            " 5   idade            1046 non-null   float64\n",
            " 6   irmaos_conjuges  1309 non-null   int64  \n",
            " 7   pais_filhos      1309 non-null   int64  \n",
            " 8   bilhete          1309 non-null   object \n",
            " 9   tarifa           1308 non-null   float64\n",
            " 10  cabine           295 non-null    object \n",
            " 11  embarque         1307 non-null   object \n",
            " 12  bote             486 non-null    object \n",
            " 13  corpo            121 non-null    float64\n",
            " 14  destino          745 non-null    object \n",
            " 15  total_parentes   1309 non-null   int64  \n",
            "dtypes: float64(3), int64(4), object(9)\n",
            "memory usage: 163.8+ KB\n"
          ],
          "name": "stdout"
        }
      ]
    },
    {
      "cell_type": "markdown",
      "metadata": {
        "id": "kk7uo7-m12nx",
        "colab_type": "text"
      },
      "source": [
        "### 2.5.2 Faixas Etárias"
      ]
    },
    {
      "cell_type": "code",
      "metadata": {
        "id": "RrmYzsAR12nx",
        "colab_type": "code",
        "colab": {
          "base_uri": "https://localhost:8080/",
          "height": 255
        },
        "outputId": "d21f6a2d-f784-4684-e084-94b66bf15e73"
      },
      "source": [
        "faixas_etarias = ['0 a 9 anos', '10 a 19 anos', '20 a 29 anos', '30 a 39 anos',\n",
        "                  '40 a 49 anos', '50 a 59 anos', '60 a 69 anos', '70 a 79 anos']\n",
        "\n",
        "df['faixa_etaria'] = pd.cut(df.idade, range(0, 81, 10), right=False, labels=faixas_etarias)\n",
        "\n",
        "df['faixa_etaria']"
      ],
      "execution_count": null,
      "outputs": [
        {
          "output_type": "execute_result",
          "data": {
            "text/plain": [
              "0       20 a 29 anos\n",
              "1         0 a 9 anos\n",
              "2         0 a 9 anos\n",
              "3       30 a 39 anos\n",
              "4       20 a 29 anos\n",
              "            ...     \n",
              "1304    10 a 19 anos\n",
              "1305             NaN\n",
              "1306    20 a 29 anos\n",
              "1307    20 a 29 anos\n",
              "1308    20 a 29 anos\n",
              "Name: faixa_etaria, Length: 1309, dtype: category\n",
              "Categories (8, object): [0 a 9 anos < 10 a 19 anos < 20 a 29 anos < 30 a 39 anos < 40 a 49 anos <\n",
              "                         50 a 59 anos < 60 a 69 anos < 70 a 79 anos]"
            ]
          },
          "metadata": {
            "tags": []
          },
          "execution_count": 41
        }
      ]
    },
    {
      "cell_type": "markdown",
      "metadata": {
        "id": "sa6l5tNd12nz",
        "colab_type": "text"
      },
      "source": [
        "# 3. Análise dos Dados"
      ]
    },
    {
      "cell_type": "markdown",
      "metadata": {
        "id": "wmDyUePn12n2",
        "colab_type": "text"
      },
      "source": [
        "## 3.1. Qual é o número de Sobreviventes?"
      ]
    },
    {
      "cell_type": "code",
      "metadata": {
        "id": "WvFj6QTx12n2",
        "colab_type": "code",
        "colab": {
          "base_uri": "https://localhost:8080/",
          "height": 68
        },
        "outputId": "56ab69b5-ede3-4dfa-9614-e9b4983b8988"
      },
      "source": [
        "df['sobreviveu'].value_counts()"
      ],
      "execution_count": null,
      "outputs": [
        {
          "output_type": "execute_result",
          "data": {
            "text/plain": [
              "N    809\n",
              "S    500\n",
              "Name: sobreviveu, dtype: int64"
            ]
          },
          "metadata": {
            "tags": []
          },
          "execution_count": 42
        }
      ]
    },
    {
      "cell_type": "markdown",
      "metadata": {
        "id": "LxgN5gdt12n5",
        "colab_type": "text"
      },
      "source": [
        "## 3.2. Homens ou mulheres tiveram mais chances de sobreviver?"
      ]
    },
    {
      "cell_type": "code",
      "metadata": {
        "id": "eGF1k5Yw12n5",
        "colab_type": "code",
        "colab": {
          "base_uri": "https://localhost:8080/",
          "height": 142
        },
        "outputId": "1ae34337-36a3-42a5-dfaa-def5d95290f5"
      },
      "source": [
        "pd.crosstab(df['sexo'], df['sobreviveu'])"
      ],
      "execution_count": null,
      "outputs": [
        {
          "output_type": "execute_result",
          "data": {
            "text/html": [
              "<div>\n",
              "<style scoped>\n",
              "    .dataframe tbody tr th:only-of-type {\n",
              "        vertical-align: middle;\n",
              "    }\n",
              "\n",
              "    .dataframe tbody tr th {\n",
              "        vertical-align: top;\n",
              "    }\n",
              "\n",
              "    .dataframe thead th {\n",
              "        text-align: right;\n",
              "    }\n",
              "</style>\n",
              "<table border=\"1\" class=\"dataframe\">\n",
              "  <thead>\n",
              "    <tr style=\"text-align: right;\">\n",
              "      <th>sobreviveu</th>\n",
              "      <th>N</th>\n",
              "      <th>S</th>\n",
              "    </tr>\n",
              "    <tr>\n",
              "      <th>sexo</th>\n",
              "      <th></th>\n",
              "      <th></th>\n",
              "    </tr>\n",
              "  </thead>\n",
              "  <tbody>\n",
              "    <tr>\n",
              "      <th>F</th>\n",
              "      <td>127</td>\n",
              "      <td>339</td>\n",
              "    </tr>\n",
              "    <tr>\n",
              "      <th>M</th>\n",
              "      <td>682</td>\n",
              "      <td>161</td>\n",
              "    </tr>\n",
              "  </tbody>\n",
              "</table>\n",
              "</div>"
            ],
            "text/plain": [
              "sobreviveu    N    S\n",
              "sexo                \n",
              "F           127  339\n",
              "M           682  161"
            ]
          },
          "metadata": {
            "tags": []
          },
          "execution_count": 49
        }
      ]
    },
    {
      "cell_type": "markdown",
      "metadata": {
        "id": "Rxen_bB512n8",
        "colab_type": "text"
      },
      "source": [
        "## 3.3. Qual classe social teve mais sobreviventes?"
      ]
    },
    {
      "cell_type": "code",
      "metadata": {
        "id": "s7E_P28X12n8",
        "colab_type": "code",
        "colab": {
          "base_uri": "https://localhost:8080/",
          "height": 173
        },
        "outputId": "7b544486-033b-4937-9fa5-52ba28d7407b"
      },
      "source": [
        "df['classe'].value_counts()\n",
        "\n",
        "df.groupby('classe').sobreviveu.describe()"
      ],
      "execution_count": null,
      "outputs": [
        {
          "output_type": "execute_result",
          "data": {
            "text/html": [
              "<div>\n",
              "<style scoped>\n",
              "    .dataframe tbody tr th:only-of-type {\n",
              "        vertical-align: middle;\n",
              "    }\n",
              "\n",
              "    .dataframe tbody tr th {\n",
              "        vertical-align: top;\n",
              "    }\n",
              "\n",
              "    .dataframe thead th {\n",
              "        text-align: right;\n",
              "    }\n",
              "</style>\n",
              "<table border=\"1\" class=\"dataframe\">\n",
              "  <thead>\n",
              "    <tr style=\"text-align: right;\">\n",
              "      <th></th>\n",
              "      <th>count</th>\n",
              "      <th>unique</th>\n",
              "      <th>top</th>\n",
              "      <th>freq</th>\n",
              "    </tr>\n",
              "    <tr>\n",
              "      <th>classe</th>\n",
              "      <th></th>\n",
              "      <th></th>\n",
              "      <th></th>\n",
              "      <th></th>\n",
              "    </tr>\n",
              "  </thead>\n",
              "  <tbody>\n",
              "    <tr>\n",
              "      <th>Alta</th>\n",
              "      <td>323</td>\n",
              "      <td>2</td>\n",
              "      <td>S</td>\n",
              "      <td>200</td>\n",
              "    </tr>\n",
              "    <tr>\n",
              "      <th>Baixa</th>\n",
              "      <td>709</td>\n",
              "      <td>2</td>\n",
              "      <td>N</td>\n",
              "      <td>528</td>\n",
              "    </tr>\n",
              "    <tr>\n",
              "      <th>Média</th>\n",
              "      <td>277</td>\n",
              "      <td>2</td>\n",
              "      <td>N</td>\n",
              "      <td>158</td>\n",
              "    </tr>\n",
              "  </tbody>\n",
              "</table>\n",
              "</div>"
            ],
            "text/plain": [
              "       count unique top freq\n",
              "classe                      \n",
              "Alta     323      2   S  200\n",
              "Baixa    709      2   N  528\n",
              "Média    277      2   N  158"
            ]
          },
          "metadata": {
            "tags": []
          },
          "execution_count": 45
        }
      ]
    },
    {
      "cell_type": "markdown",
      "metadata": {
        "id": "Qqz0NxO812n-",
        "colab_type": "text"
      },
      "source": [
        "## 3.4. Qual faixa etária teve mais chances de sobreviver?"
      ]
    },
    {
      "cell_type": "code",
      "metadata": {
        "id": "h-t6piJB12n-",
        "colab_type": "code",
        "colab": {
          "base_uri": "https://localhost:8080/",
          "height": 328
        },
        "outputId": "5ab41f00-0982-4e8a-c7f7-e88a5957960e"
      },
      "source": [
        "df.groupby(['faixa_etaria']).sobreviveu.describe()"
      ],
      "execution_count": null,
      "outputs": [
        {
          "output_type": "execute_result",
          "data": {
            "text/html": [
              "<div>\n",
              "<style scoped>\n",
              "    .dataframe tbody tr th:only-of-type {\n",
              "        vertical-align: middle;\n",
              "    }\n",
              "\n",
              "    .dataframe tbody tr th {\n",
              "        vertical-align: top;\n",
              "    }\n",
              "\n",
              "    .dataframe thead th {\n",
              "        text-align: right;\n",
              "    }\n",
              "</style>\n",
              "<table border=\"1\" class=\"dataframe\">\n",
              "  <thead>\n",
              "    <tr style=\"text-align: right;\">\n",
              "      <th></th>\n",
              "      <th>count</th>\n",
              "      <th>unique</th>\n",
              "      <th>top</th>\n",
              "      <th>freq</th>\n",
              "    </tr>\n",
              "    <tr>\n",
              "      <th>faixa_etaria</th>\n",
              "      <th></th>\n",
              "      <th></th>\n",
              "      <th></th>\n",
              "      <th></th>\n",
              "    </tr>\n",
              "  </thead>\n",
              "  <tbody>\n",
              "    <tr>\n",
              "      <th>0 a 9 anos</th>\n",
              "      <td>82</td>\n",
              "      <td>2</td>\n",
              "      <td>S</td>\n",
              "      <td>50</td>\n",
              "    </tr>\n",
              "    <tr>\n",
              "      <th>10 a 19 anos</th>\n",
              "      <td>143</td>\n",
              "      <td>2</td>\n",
              "      <td>N</td>\n",
              "      <td>87</td>\n",
              "    </tr>\n",
              "    <tr>\n",
              "      <th>20 a 29 anos</th>\n",
              "      <td>344</td>\n",
              "      <td>2</td>\n",
              "      <td>N</td>\n",
              "      <td>217</td>\n",
              "    </tr>\n",
              "    <tr>\n",
              "      <th>30 a 39 anos</th>\n",
              "      <td>232</td>\n",
              "      <td>2</td>\n",
              "      <td>N</td>\n",
              "      <td>134</td>\n",
              "    </tr>\n",
              "    <tr>\n",
              "      <th>40 a 49 anos</th>\n",
              "      <td>135</td>\n",
              "      <td>2</td>\n",
              "      <td>N</td>\n",
              "      <td>83</td>\n",
              "    </tr>\n",
              "    <tr>\n",
              "      <th>50 a 59 anos</th>\n",
              "      <td>70</td>\n",
              "      <td>2</td>\n",
              "      <td>N</td>\n",
              "      <td>38</td>\n",
              "    </tr>\n",
              "    <tr>\n",
              "      <th>60 a 69 anos</th>\n",
              "      <td>32</td>\n",
              "      <td>2</td>\n",
              "      <td>N</td>\n",
              "      <td>22</td>\n",
              "    </tr>\n",
              "    <tr>\n",
              "      <th>70 a 79 anos</th>\n",
              "      <td>7</td>\n",
              "      <td>2</td>\n",
              "      <td>N</td>\n",
              "      <td>6</td>\n",
              "    </tr>\n",
              "  </tbody>\n",
              "</table>\n",
              "</div>"
            ],
            "text/plain": [
              "             count unique top freq\n",
              "faixa_etaria                      \n",
              "0 a 9 anos      82      2   S   50\n",
              "10 a 19 anos   143      2   N   87\n",
              "20 a 29 anos   344      2   N  217\n",
              "30 a 39 anos   232      2   N  134\n",
              "40 a 49 anos   135      2   N   83\n",
              "50 a 59 anos    70      2   N   38\n",
              "60 a 69 anos    32      2   N   22\n",
              "70 a 79 anos     7      2   N    6"
            ]
          },
          "metadata": {
            "tags": []
          },
          "execution_count": 46
        }
      ]
    },
    {
      "cell_type": "code",
      "metadata": {
        "id": "HYxmWgxN12oA",
        "colab_type": "code",
        "colab": {
          "base_uri": "https://localhost:8080/",
          "height": 328
        },
        "outputId": "cc17ba03-8745-4f81-dbcc-70a16cfb58b2"
      },
      "source": [
        "pd.crosstab(df['faixa_etaria'], df['sobreviveu'])"
      ],
      "execution_count": 50,
      "outputs": [
        {
          "output_type": "execute_result",
          "data": {
            "text/html": [
              "<div>\n",
              "<style scoped>\n",
              "    .dataframe tbody tr th:only-of-type {\n",
              "        vertical-align: middle;\n",
              "    }\n",
              "\n",
              "    .dataframe tbody tr th {\n",
              "        vertical-align: top;\n",
              "    }\n",
              "\n",
              "    .dataframe thead th {\n",
              "        text-align: right;\n",
              "    }\n",
              "</style>\n",
              "<table border=\"1\" class=\"dataframe\">\n",
              "  <thead>\n",
              "    <tr style=\"text-align: right;\">\n",
              "      <th>sobreviveu</th>\n",
              "      <th>N</th>\n",
              "      <th>S</th>\n",
              "    </tr>\n",
              "    <tr>\n",
              "      <th>faixa_etaria</th>\n",
              "      <th></th>\n",
              "      <th></th>\n",
              "    </tr>\n",
              "  </thead>\n",
              "  <tbody>\n",
              "    <tr>\n",
              "      <th>0 a 9 anos</th>\n",
              "      <td>32</td>\n",
              "      <td>50</td>\n",
              "    </tr>\n",
              "    <tr>\n",
              "      <th>10 a 19 anos</th>\n",
              "      <td>87</td>\n",
              "      <td>56</td>\n",
              "    </tr>\n",
              "    <tr>\n",
              "      <th>20 a 29 anos</th>\n",
              "      <td>217</td>\n",
              "      <td>127</td>\n",
              "    </tr>\n",
              "    <tr>\n",
              "      <th>30 a 39 anos</th>\n",
              "      <td>134</td>\n",
              "      <td>98</td>\n",
              "    </tr>\n",
              "    <tr>\n",
              "      <th>40 a 49 anos</th>\n",
              "      <td>83</td>\n",
              "      <td>52</td>\n",
              "    </tr>\n",
              "    <tr>\n",
              "      <th>50 a 59 anos</th>\n",
              "      <td>38</td>\n",
              "      <td>32</td>\n",
              "    </tr>\n",
              "    <tr>\n",
              "      <th>60 a 69 anos</th>\n",
              "      <td>22</td>\n",
              "      <td>10</td>\n",
              "    </tr>\n",
              "    <tr>\n",
              "      <th>70 a 79 anos</th>\n",
              "      <td>6</td>\n",
              "      <td>1</td>\n",
              "    </tr>\n",
              "  </tbody>\n",
              "</table>\n",
              "</div>"
            ],
            "text/plain": [
              "sobreviveu      N    S\n",
              "faixa_etaria          \n",
              "0 a 9 anos     32   50\n",
              "10 a 19 anos   87   56\n",
              "20 a 29 anos  217  127\n",
              "30 a 39 anos  134   98\n",
              "40 a 49 anos   83   52\n",
              "50 a 59 anos   38   32\n",
              "60 a 69 anos   22   10\n",
              "70 a 79 anos    6    1"
            ]
          },
          "metadata": {
            "tags": []
          },
          "execution_count": 50
        }
      ]
    },
    {
      "cell_type": "markdown",
      "metadata": {
        "id": "BOCRYVAk12oB",
        "colab_type": "text"
      },
      "source": [
        "# REFERÊNCIAS\n",
        "\n",
        "- [Titanic: Machine Learning from Disaster](https://www.kaggle.com/c/titanic/data)\n",
        "- [Encyclopedia Titanica](https://www.encyclopedia-titanica.org/)\n",
        "- [Basic Feature Engineering with the Titanic Data](https://triangleinequality.wordpress.com/2013/09/08/basic-feature-engineering-with-the-titanic-data/)\n",
        "- Hind, Philip.  \"Encyclopedia Titanica.\"  Online.  Internet. n.p.  02 Aug 1999."
      ]
    }
  ]
}